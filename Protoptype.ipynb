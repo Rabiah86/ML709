{
  "nbformat": 4,
  "nbformat_minor": 0,
  "metadata": {
    "colab": {
      "provenance": []
    },
    "kernelspec": {
      "name": "python3",
      "display_name": "Python 3"
    },
    "language_info": {
      "name": "python"
    }
  },
  "cells": [
    {
      "cell_type": "code",
      "execution_count": null,
      "metadata": {
        "id": "KMDSz2Qk2EcD"
      },
      "outputs": [],
      "source": [
        "##EDGE \n",
        "#\n",
        "'''\n",
        "Class Edge: \n",
        "Read_data( ) : normal range (15-25)\n",
        "temp= Sensor.Read\n",
        "\n",
        "check_temp (temp) \n",
        "if !(temp in range): \n",
        "   Cloud.Process( temp)\n",
        "   log_request(temp) \n",
        "\n",
        "\n",
        "Log_request(temp,msg)\n",
        "   log_file.append( temp, time.now, msg)\n",
        "  '''"
      ]
    },
    {
      "cell_type": "code",
      "source": [
        "##CLOUD \n",
        "'''\n",
        "Process(temp) \n",
        "if temp is in range: \n",
        "    log_transaction(temp,'wrong value sent by edge')\n",
        "else:  #if the temp 40 \n",
        "    if(!Ping(AC)): \n",
        "     log_transaction(temp,'AC not working')\n",
        "     Email ('management')\n",
        "     else: \n",
        "     #responses \n",
        "\n",
        "    \n",
        "\n",
        "\n",
        "log_transaction(temp,msg)\n",
        "log_file.append(temp, time.now, msg)\n",
        "'''\n"
      ],
      "metadata": {
        "id": "a6Mk3hDR2Jpi"
      },
      "execution_count": null,
      "outputs": []
    }
  ]
}