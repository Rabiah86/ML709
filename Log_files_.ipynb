{
  "nbformat": 4,
  "nbformat_minor": 0,
  "metadata": {
    "colab": {
      "provenance": [],
      "collapsed_sections": []
    },
    "kernelspec": {
      "name": "python3",
      "display_name": "Python 3"
    },
    "language_info": {
      "name": "python"
    }
  },
  "cells": [
    {
      "cell_type": "code",
      "execution_count": null,
      "metadata": {
        "id": "nukhPnPsr52w"
      },
      "outputs": [],
      "source": [
        "#TASK 1\n",
        "#Download the network log file from here:\n",
        "#https://drive.google.com/file/d/1xA02HAZHytCBAKzqTwC5-s29vt41rOk3/view?usp=sharing\n"
      ]
    },
    {
      "cell_type": "code",
      "source": [
        "#TASK 2\n",
        "#Create a data structure to store the data"
      ],
      "metadata": {
        "id": "J5tx9pFesFbM"
      },
      "execution_count": null,
      "outputs": []
    },
    {
      "cell_type": "markdown",
      "source": [
        "***Admin Panel***"
      ],
      "metadata": {
        "id": "csRtF10svsBU"
      }
    },
    {
      "cell_type": "code",
      "source": [
        "#Task 3: write a python function for each of the following tasks: \n",
        "#A- Read the log transactions that took place from a certain mac address \n",
        "#B- Read the log transactions that took place from a certain IP address \n",
        "#C- The number of readings in the day (the log file was generated from a single day readings)\n",
        "#D- List the unique mac addresses that were a transaction source\n",
        "#E- List the unique mac addresses that were a transaction destination\n",
        "#F- read the log records at a certain minute \n",
        "#G- The number of readings in a certain minute"
      ],
      "metadata": {
        "id": "sLChKbE7sxKc"
      },
      "execution_count": null,
      "outputs": []
    },
    {
      "cell_type": "code",
      "source": [
        "#Task 4\n",
        "#The logs you explored are classified into 5 types of attacks. Typically, these labeled records are used to train neural networks to detect attacks in real-time \n",
        "#write a function that retrieves the records of a certain attack type "
      ],
      "metadata": {
        "id": "plqbT-qlwse7"
      },
      "execution_count": null,
      "outputs": []
    }
  ]
}