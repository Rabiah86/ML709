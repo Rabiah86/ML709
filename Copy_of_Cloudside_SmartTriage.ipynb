{
  "nbformat": 4,
  "nbformat_minor": 0,
  "metadata": {
    "colab": {
      "provenance": [],
      "collapsed_sections": []
    },
    "kernelspec": {
      "name": "python3",
      "display_name": "Python 3"
    },
    "language_info": {
      "name": "python"
    }
  },
  "cells": [
    {
      "cell_type": "markdown",
      "source": [
        "\n",
        "# **CLOUD SIDE**"
      ],
      "metadata": {
        "id": "VYo76gdNU7Pi"
      }
    },
    {
      "cell_type": "code",
      "source": [
        "#!!!!Please note that this code is only for demonestrating the interactions between the cloud and clients, the process of sorting and managing patients order in the queue\n",
        "#was simplified for the sake of simplicity!!!!!\n",
        "\n",
        "''' \n",
        "Here we have a Virtual-queue for each hospital (in a region) \n",
        "for each patient depending on the severity of there case: they'll be added to the nearest ER VQ\n",
        "Some basic ops will also be available like remove patient after being served etc\n",
        "The queue shall always be ordered based on FCFS and higher severity has to be given higher prioirety \n",
        "'''\n",
        "import numpy as np\n",
        "Max_ERs= 3\n",
        "#assign a unique code to each ER room! the third number is the average service time (time spent at the doctor's clinic)\n",
        "# means that the first Queue in the list is for Carelton's ER\n",
        "\n",
        "ERsLookup = {\n",
        "  'NMC':0,\n",
        "  'Medi':1, \n",
        "  'Queens':2}\n",
        "#in minutes\n",
        "AvgServiceTimeLookup = {\n",
        "  0:20,\n",
        "  1:30,\n",
        "  2:10\n",
        "  }\n",
        "#assumption here is that only 3 ERs are available\n",
        "class CloudWaitRooms:\n",
        "    \n",
        "    WaitRooms =[[]] * 3#list of lists , 3 ERs so 3 indexed from 0 to 2  \n",
        "    def SelectBestER(self, patientid,patientTriagescore):\n",
        "        ###Here, we get the closest ERs using \"types.TYPE_HOSPITAL\"\n",
        "        ###for simplicity we'll assume that all 3 ERs are close to the patient\n",
        "      \n",
        "        #here's the list of all potential ERs, need to score them some how, then see which one offers minmum wait time and then return the best fit\n",
        "        #CHANGE THIS CZ THE APPENDED ITEMS  WILL GO AFTER THE ZERO COLUMNS!:(\n",
        "        WaiTimeScores= np.zeros((Max_ERs))#create an array of zeros\n",
        "        #####for simplicity we'll assume that the ERs are sorted by distance \n",
        "        for queueindex in range(3):\n",
        "           \n",
        "           TempQ= list(self.WaitRooms[queueindex])\n",
        "           TempQ.append((patientTriagescore,patientid))\n",
        "           TempQ.sort()\n",
        "           AvgServiceTime=AvgServiceTimeLookup.get(queueindex)\n",
        "           index = TempQ.index((patientTriagescore,patientid))\n",
        "           Waitime = AvgServiceTime * (index+1)\n",
        "           WaiTimeScores = np.append(WaiTimeScores,Waitime)#each ER and its expected wait time \n",
        "           \n",
        "        #return min in WaiTimeScores\n",
        "        index_of_best_Q= np.argmin(WaiTimeScores)\n",
        "        \n",
        "        \n",
        "        print(self.Addpatient(index_of_best_Q, patientid,patientTriagescore))\n",
        "\t      \n",
        "        \n",
        "    def Addpatient(self, queueindex, patientid, patientTriagescore):\n",
        "        '''\n",
        "           here we need ad a  petient with patientid as their ID number, queueindex as the best ER, patientTriagescore the score sent from the edge\n",
        "        '''\n",
        "        self.WaitRooms[queueindex].append((patientTriagescore,patientid))#add the patient to the corresponding ER (good here to make sure the patientid not duplicate)\n",
        "        self.WaitRooms[queueindex].sort() #set the patient where they should be in queue, remember python executes stable sorting for duplicate values so the exsting values wont be affected !\n",
        "        #will use this sorting function for the sake of simplicity \n",
        "        print(\"Your expected wait time is: \" + str(self.ExpectedWaitTime(queueindex, patientid,patientTriagescore )))\n",
        "        print(\"The selected ER is: \")\n",
        "        print(list(ERsLookup.keys())[list(ERsLookup.values()).index(queueindex)])\n",
        "        return \"Patient added successfully\"\n",
        "        \n",
        "    \n",
        "    def ExpectedWaitTime(self,queueindex, patientid,triagescore ):\n",
        "        #should run on a scheduled bases to keep patients updated\n",
        "        #Tell the patient how long they'll have to wait before they can be seen by a doctor\n",
        "        #get the average service time of the selected ER\n",
        "        AvgServiceTime=AvgServiceTimeLookup.get(queueindex)\n",
        "        index = self.WaitRooms[queueindex].index((triagescore,patientid))\n",
        "        return AvgServiceTime * (index+1)\n",
        "        \n",
        "\n",
        "    def RemovePatient(self, queueindex, patientid,triagescore):\n",
        "        self.WaitRooms[queueindex].remove((triagescore,patientid))\n",
        "        #do we need to sort after that?\n",
        "        return 'Patient removed from queue successfully'\n",
        "    \n",
        "        \n",
        "    \n",
        "        "
      ],
      "metadata": {
        "id": "jreXpsQ5iJez"
      },
      "execution_count": null,
      "outputs": []
    },
    {
      "cell_type": "markdown",
      "source": [
        "\n",
        "# **EDGE SIDE**"
      ],
      "metadata": {
        "id": "cJjnv74ayyXL"
      }
    },
    {
      "cell_type": "code",
      "source": [
        "#DEFINE A CLOUD INSTANCE\n",
        "CloudWaitRoomsobject = CloudWaitRooms()\n",
        "\n",
        "TriageScoreLookup = {\n",
        "  'Eczema':0,\n",
        "  'SkinBurns1':1, \n",
        "  'SkinBurn3':5}\n",
        "\n",
        "class Edge:\n",
        "      #constructor!\n",
        "      def __init__(self, ID):\n",
        "          #When the Edge is being configured for the first time set the patient ID\n",
        "          ###customise this based on the project scope: cover one patient or group of patients from the same household?\n",
        "          self.patient_id = ID\n",
        "      def Diagnose(self, image_from_sensor):\n",
        "          Triage_Score= 5 #there has to be a defined scale , what numbers are reskier than others?\n",
        "          #for the sake of simplicity we'll return the same score to all patients \n",
        "          ###how can this score be computed?\n",
        "          #each illness is mapped to a number in the scale\n",
        "          return Triage_Score\n",
        "      def Send_request_to_cloud(self,Score):\n",
        "          \n",
        "          WaitTime = CloudWaitRoomsobject.SelectBestER(self.patient_id,Score)\n",
        "          \n",
        "          \n",
        "       \n",
        "    "
      ],
      "metadata": {
        "id": "S7eOhKy1OD2t"
      },
      "execution_count": null,
      "outputs": []
    }
  ]
}